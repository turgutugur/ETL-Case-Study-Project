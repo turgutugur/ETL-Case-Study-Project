{
 "cells": [
  {
   "cell_type": "code",
   "execution_count": 22,
   "metadata": {},
   "outputs": [],
   "source": [
    "import pandas as pd\n",
    "import numpy as np\n",
    "from sqlalchemy import create_engine \n",
    "import missingno as msno\n",
    "from zipfile import ZipFile\n",
    "import re\n",
    "from bs4 import BeautifulSoup\n",
    "import requests"
   ]
  },
  {
   "cell_type": "code",
   "execution_count": 23,
   "metadata": {},
   "outputs": [],
   "source": [
    "def API_df_maker(url,headers):\n",
    "    resp_woman = requests.get(url,headers=headers).json()\n",
    "    result_length=len(resp_woman['products'])\n",
    "    articleCode=[resp_woman[\"products\"][i][\"articleCode\"] for i in range(result_length)]\n",
    "    title=[resp_woman[\"products\"][i][\"title\"] for i in range(result_length)]\n",
    "    category=[resp_woman[\"products\"][i][\"category\"] for i in range(result_length)]\n",
    "    price=[resp_woman['products'][i]['price'] for i in range(result_length)]\n",
    "    \n",
    "    list_dict={\"articleCode\":articleCode,\n",
    "               \"title\":title,\n",
    "               \"category\":category,\n",
    "               \"price\":price,\n",
    "               }                      \n",
    "                                    \n",
    "                                    \n",
    "    list_df=pd.DataFrame(list_dict)\n",
    "    #list_df.to_csv(\"Resources/women_article.csv\",index=False)\n",
    "    return list_df"
   ]
  },
  {
   "cell_type": "code",
   "execution_count": 41,
   "metadata": {},
   "outputs": [],
   "source": [
    "def price_maker(x):\n",
    "    return float(x.split()[-1])"
   ]
  },
  {
   "cell_type": "code",
   "execution_count": 24,
   "metadata": {},
   "outputs": [],
   "source": [
    "headers = {'User-Agent':'Mozilla/5.0 (Macintosh; Intel Mac OS X 10_11_2) AppleWebKit/601.3.9 (KHTML, like Gecko) Version/9.0.2 Safari/601.3.9'}\n",
    "url='https://www2.hm.com/en_us/women/products/view-all/_jcr_content/main/productlisting_30ab.display.json?sort=stock&image-size=small&image=model&offset=36&page-size=5258'\n",
    "women_article_df=API_df_maker(url,headers)"
   ]
  },
  {
   "cell_type": "code",
   "execution_count": 26,
   "metadata": {},
   "outputs": [],
   "source": [
    "women_article_df['price($)']=women_article_df[\"price\"].apply(price_maker)\n",
    "women_article_df.drop('price',axis=1, inplace=True)"
   ]
  },
  {
   "cell_type": "code",
   "execution_count": 42,
   "metadata": {},
   "outputs": [],
   "source": [
    "headers = {'User-Agent':'Mozilla/5.0 (Macintosh; Intel Mac OS X 10_11_2) AppleWebKit/601.3.9 (KHTML, like Gecko) Version/9.0.2 Safari/601.3.9'}\n",
    "\n",
    "url='https://www2.hm.com/en_us/men/products/view-all/_jcr_content/main/productlisting_fa5b.display.json?sort=stock&image-size=small&image=model&offset=252&page-size=2068'\n",
    "men_article_df=API_df_maker(url,headers)"
   ]
  },
  {
   "cell_type": "code",
   "execution_count": 43,
   "metadata": {},
   "outputs": [],
   "source": [
    "men_article_df['price($)']=men_article_df[\"price\"].apply(price_maker)\n",
    "men_article_df.drop('price',axis=1, inplace=True)"
   ]
  },
  {
   "cell_type": "code",
   "execution_count": 36,
   "metadata": {},
   "outputs": [],
   "source": [
    "headers = {'User-Agent':'Mozilla/5.0 (Macintosh; Intel Mac OS X 10_11_2) AppleWebKit/601.3.9 (KHTML, like Gecko) Version/9.0.2 Safari/601.3.9'}\n",
    "url_baby = 'https://www2.hm.com/en_us/baby/products/view-all/_jcr_content/main/productlisting.display.json?sort=stock&image-size=small&image=stillLife&offset=36&page-size=1353'\n",
    "baby_article_df=API_df_maker(url_baby,headers)"
   ]
  },
  {
   "cell_type": "code",
   "execution_count": 37,
   "metadata": {},
   "outputs": [],
   "source": [
    "baby_article_df['price($)']=baby_article_df[\"price\"].apply(price_maker)\n",
    "baby_article_df.drop('price',axis=1, inplace=True)\n"
   ]
  },
  {
   "cell_type": "code",
   "execution_count": 39,
   "metadata": {},
   "outputs": [],
   "source": [
    "headers = {'User-Agent':'Mozilla/5.0 (Macintosh; Intel Mac OS X 10_11_2) AppleWebKit/601.3.9 (KHTML, like Gecko) Version/9.0.2 Safari/601.3.9'}\n",
    "url_men='https://www2.hm.com/en_us/kids/products/view-all/_jcr_content/main/productlisting_acbd.display.json?sort=stock&image-size=small&image=stillLife&offset=36&page-size=3143'\n",
    "kids_article_df=API_df_maker(url_men,headers)"
   ]
  },
  {
   "cell_type": "code",
   "execution_count": 40,
   "metadata": {},
   "outputs": [],
   "source": [
    "kids_article_df['price($)']=kids_article_df[\"price\"].apply(price_maker)\n",
    "kids_article_df.drop('price',axis=1, inplace=True)"
   ]
  },
  {
   "cell_type": "code",
   "execution_count": 44,
   "metadata": {},
   "outputs": [],
   "source": [
    "#Saving dataframes as csv files\n",
    "kids_article_df.to_csv(\"outputs/kids_article.csv\",index=False)\n",
    "baby_article_df.to_csv(\"outputs/baby_article_df.csv\",index=False)\n",
    "men_article_df.to_csv(\"outputs/men_article_df.csv\",index=False)\n",
    "women_article_df.to_csv(\"outputs/women_article_df.csv\",index=False)\n"
   ]
  },
  {
   "cell_type": "code",
   "execution_count": null,
   "metadata": {},
   "outputs": [],
   "source": []
  }
 ],
 "metadata": {
  "interpreter": {
   "hash": "9e98ca354e3851654866a93b61c1fb2fef3d767b5f0e3026515a6856495f5a5f"
  },
  "kernelspec": {
   "display_name": "Python 3",
   "language": "python",
   "name": "python3"
  },
  "language_info": {
   "codemirror_mode": {
    "name": "ipython",
    "version": 3
   },
   "file_extension": ".py",
   "mimetype": "text/x-python",
   "name": "python",
   "nbconvert_exporter": "python",
   "pygments_lexer": "ipython3",
   "version": "3.7.6"
  }
 },
 "nbformat": 4,
 "nbformat_minor": 2
}
